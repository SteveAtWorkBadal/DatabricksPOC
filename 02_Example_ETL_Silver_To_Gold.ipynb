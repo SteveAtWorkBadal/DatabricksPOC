{
 "cells": [
  {
   "cell_type": "code",
   "execution_count": 0,
   "metadata": {
    "application/vnd.databricks.v1+cell": {
     "cellMetadata": {
      "byteLimit": 2048000,
      "rowLimit": 10000
     },
     "inputWidgets": {},
     "nuid": "89dd8f5f-e13e-45e6-b9dd-3bb77977045a",
     "showTitle": false,
     "tableResultSettingsMap": {},
     "title": ""
    }
   },
   "outputs": [],
   "source": [
    "create or replace table databricks_poc.gold.payment_method_transactions_by_month as\n",
    "select \n",
    "payment_method\n",
    ",year_month\n",
    ",round(total_amount, 2) as total_amount\n",
    "from databricks_poc.silver.cube_user_transactions\n",
    "where category is NULL \n",
    "and merchant is NULL \n",
    "and user_id is NULL \n",
    "and gender is NULL \n",
    "and country is NULL \n",
    "and age_group is NULL\n",
    "and payment_method is not NULL\n",
    "and year_month is not NULL\n",
    "order by year_month;"
   ]
  },
  {
   "cell_type": "code",
   "execution_count": 0,
   "metadata": {
    "application/vnd.databricks.v1+cell": {
     "cellMetadata": {
      "byteLimit": 2048000,
      "rowLimit": 10000
     },
     "inputWidgets": {},
     "nuid": "07ec7aa6-8656-4363-9050-06e429379e65",
     "showTitle": false,
     "tableResultSettingsMap": {},
     "title": ""
    }
   },
   "outputs": [],
   "source": [
    "create or replace table databricks_poc.gold.category_transactions_by_month as\n",
    "select \n",
    "category\n",
    ",year_month\n",
    ",round(total_amount, 2) as total_amount\n",
    "from databricks_poc.silver.cube_user_transactions\n",
    "where payment_method is NULL \n",
    "and merchant is NULL \n",
    "and user_id is NULL \n",
    "and gender is NULL \n",
    "and country is NULL \n",
    "and age_group is NULL\n",
    "and  category is not NULL\n",
    "and year_month is not NULL\n",
    "order by year_month;"
   ]
  },
  {
   "cell_type": "code",
   "execution_count": 0,
   "metadata": {
    "application/vnd.databricks.v1+cell": {
     "cellMetadata": {
      "byteLimit": 2048000,
      "rowLimit": 10000
     },
     "inputWidgets": {},
     "nuid": "e03e49e8-51e1-4ee7-bb57-87f367c03a45",
     "showTitle": false,
     "tableResultSettingsMap": {},
     "title": ""
    }
   },
   "outputs": [],
   "source": [
    "create or replace table databricks_poc.gold.merchant_transactions_by_month as\n",
    "select \n",
    "merchant\n",
    ",year_month\n",
    ",round(total_amount, 2) as total_amount\n",
    "from databricks_poc.silver.cube_user_transactions\n",
    "where payment_method is NULL \n",
    "and category is NULL \n",
    "and user_id is NULL \n",
    "and gender is NULL \n",
    "and country is NULL \n",
    "and age_group is NULL\n",
    "and  merchant is not NULL\n",
    "and year_month is not NULL\n",
    "order by year_month;"
   ]
  },
  {
   "cell_type": "code",
   "execution_count": 0,
   "metadata": {
    "application/vnd.databricks.v1+cell": {
     "cellMetadata": {
      "byteLimit": 2048000,
      "rowLimit": 10000
     },
     "inputWidgets": {},
     "nuid": "2a3aa229-4e00-412b-80ac-742e597acea7",
     "showTitle": false,
     "tableResultSettingsMap": {},
     "title": ""
    }
   },
   "outputs": [],
   "source": [
    "create or replace table databricks_poc.gold.age_group_transactions_by_month as\n",
    "select \n",
    "age_group\n",
    ",year_month\n",
    ",round(total_amount, 2) as total_amount\n",
    "from databricks_poc.silver.cube_user_transactions\n",
    "where payment_method is NULL \n",
    "and category is NULL \n",
    "and user_id is NULL \n",
    "and gender is NULL \n",
    "and country is NULL \n",
    "and merchant is NULL\n",
    "and age_group is not NULL\n",
    "and year_month is not NULL\n",
    "order by year_month;"
   ]
  },
  {
   "cell_type": "code",
   "execution_count": 0,
   "metadata": {
    "application/vnd.databricks.v1+cell": {
     "cellMetadata": {},
     "inputWidgets": {},
     "nuid": "2ae42b81-c170-46c2-9539-8deb86bf7dab",
     "showTitle": false,
     "tableResultSettingsMap": {},
     "title": ""
    }
   },
   "outputs": [],
   "source": []
  }
 ],
 "metadata": {
  "application/vnd.databricks.v1+notebook": {
   "computePreferences": null,
   "dashboards": [],
   "environmentMetadata": {
    "base_environment": "",
    "environment_version": "2"
   },
   "language": "sql",
   "notebookMetadata": {
    "mostRecentlyExecutedCommandWithImplicitDF": {
     "commandId": -1,
     "dataframes": [
      "_sqldf"
     ]
    },
    "pythonIndentUnit": 4
   },
   "notebookName": "02_Example_ETL_Silver_To_Gold",
   "widgets": {}
  },
  "language_info": {
   "name": "sql"
  }
 },
 "nbformat": 4,
 "nbformat_minor": 0
}
