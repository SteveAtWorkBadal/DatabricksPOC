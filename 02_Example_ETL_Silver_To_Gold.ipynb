{
 "cells": [
  {
   "cell_type": "markdown",
   "metadata": {
    "application/vnd.databricks.v1+cell": {
     "cellMetadata": {},
     "inputWidgets": {},
     "nuid": "d04dcbf9-904e-413a-917b-cf5b68da9601",
     "showTitle": false,
     "tableResultSettingsMap": {},
     "title": ""
    }
   },
   "source": [
    "Use transaction data from federated table databricks_poc_bigquery_catalog.databricks_poc.transactions\n",
    "\n",
    "Join to silver.users\n",
    "\n",
    "Get sum of transactions by age range and write to databricks_poc.gold.transactions_by_age\n",
    "\n",
    "Get sum of transactions by category and write to databricks_poc.gold.transactions_by_category\n",
    "\n",
    "Get sum of transactions in the last 30 days and write to databricks_poc.gold.transactions_last_30_days"
   ]
  },
  {
   "cell_type": "code",
   "execution_count": 0,
   "metadata": {
    "application/vnd.databricks.v1+cell": {
     "cellMetadata": {
      "byteLimit": 2048000,
      "rowLimit": 10000
     },
     "inputWidgets": {},
     "nuid": "43a147c6-ab9c-46ec-b9f7-33498f0e5f6a",
     "showTitle": false,
     "tableResultSettingsMap": {},
     "title": ""
    }
   },
   "outputs": [],
   "source": [
    "spark.sql(\"USE CATALOG databricks_poc\")\n",
    "spark.sql(\"USE SCHEMA silver\")\n",
    "\n",
    "\n",
    "spark.sql(\"CREATE SCHEMA IF NOT EXISTS gold\")\n",
    "spark.sql(\"USE SCHEMA gold\")\n",
    "spark.sql(\"\"\"\n",
    "          CREATE OR REPLACE TABLE gold.transactions_by_age AS\n",
    "          SELECT \n",
    "          age_group\n",
    "          ,round(sum(amount),2) as total_amount\n",
    "          FROM silver.user_silver_transactions_vw\n",
    "          GROUP BY 1 \n",
    "          \"\"\")\n",
    "\n",
    "\n",
    "spark.sql(\"\"\"\n",
    "          CREATE OR REPLACE TABLE gold.transactions_by_category AS\n",
    "          SELECT\n",
    "          category\n",
    "          ,round(sum(amount), 2) as total_amount\n",
    "          FROM silver.user_silver_transactions_vw\n",
    "          GROUP BY 1\n",
    "          \"\"\")\n",
    "\n",
    "\n",
    "spark.sql(\"\"\"\n",
    "          CREATE OR REPLACE VIEW gold.transactions_last_30_days AS\n",
    "          SELECT round(sum(amount), 2) as total_amount_last_30_days\n",
    "          FROM silver.user_silver_transactions_vw\n",
    "          WHERE transaction_date >= DATE_SUB(current_date(), 30)\n",
    "          \"\"\")\n",
    "\n",
    "\n"
   ]
  },
  {
   "cell_type": "code",
   "execution_count": 0,
   "metadata": {
    "application/vnd.databricks.v1+cell": {
     "cellMetadata": {},
     "inputWidgets": {},
     "nuid": "a623c25e-c602-40d4-ae36-db3d592610d1",
     "showTitle": false,
     "tableResultSettingsMap": {},
     "title": ""
    }
   },
   "outputs": [],
   "source": []
  }
 ],
 "metadata": {
  "application/vnd.databricks.v1+notebook": {
   "computePreferences": null,
   "dashboards": [],
   "environmentMetadata": {
    "base_environment": "",
    "environment_version": "2"
   },
   "inputWidgetPreferences": null,
   "language": "python",
   "notebookMetadata": {
    "mostRecentlyExecutedCommandWithImplicitDF": {
     "commandId": 4917404292298008,
     "dataframes": [
      "_sqldf"
     ]
    },
    "pythonIndentUnit": 4
   },
   "notebookName": "02_Example_ETL_Silver_To_Gold",
   "widgets": {}
  },
  "language_info": {
   "name": "python"
  }
 },
 "nbformat": 4,
 "nbformat_minor": 0
}
