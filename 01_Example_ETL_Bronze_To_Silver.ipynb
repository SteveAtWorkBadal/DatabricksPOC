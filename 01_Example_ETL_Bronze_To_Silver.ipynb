{
 "cells": [
  {
   "cell_type": "markdown",
   "metadata": {
    "application/vnd.databricks.v1+cell": {
     "cellMetadata": {},
     "inputWidgets": {},
     "nuid": "7c9034c8-2e76-4884-9b9e-b26363ab212e",
     "showTitle": false,
     "tableResultSettingsMap": {},
     "title": ""
    }
   },
   "source": [
    "Read from databricks_poc.bronze.users\n",
    "\n",
    "Mask Name\n",
    "\n",
    "Partially mask email so only the domain is visible\n",
    "\n",
    "Group ages into ranges\n",
    "\n",
    "Write to databricks_poc.silver.users"
   ]
  },
  {
   "cell_type": "code",
   "execution_count": 0,
   "metadata": {
    "application/vnd.databricks.v1+cell": {
     "cellMetadata": {
      "byteLimit": 2048000,
      "rowLimit": 10000
     },
     "inputWidgets": {},
     "nuid": "ec46bec5-4651-4a24-9eb2-b1bf15edb5d2",
     "showTitle": false,
     "tableResultSettingsMap": {},
     "title": ""
    }
   },
   "outputs": [],
   "source": [
    "from pyspark.sql.functions import regexp_replace, udf, col\n",
    "from pyspark.sql.types import StringType\n",
    "\n",
    "# Helper functions\n",
    "\n",
    "def mask_email(email):\n",
    "    email.split(\"@\")[0]\n",
    "    return \"******@\" + email.split(\"@\")[1]\n",
    "\n",
    "mask_email_udf = udf(mask_email, StringType())\n",
    "\n",
    "\n",
    "def group_age(age):\n",
    "    if age < 18:\n",
    "        return \"under 18\"\n",
    "    elif age >= 18 and age < 30:\n",
    "        return \"18-29\"\n",
    "    elif age >= 30 and age < 65:\n",
    "        return \"30-49\"\n",
    "    elif age >= 65:\n",
    "        return \"65+\"\n",
    "    else:\n",
    "        return \"unknown\"\n",
    "\n",
    "group_age_udf = udf(group_age, StringType())"
   ]
  },
  {
   "cell_type": "code",
   "execution_count": 0,
   "metadata": {
    "application/vnd.databricks.v1+cell": {
     "cellMetadata": {
      "byteLimit": 2048000,
      "rowLimit": 10000
     },
     "inputWidgets": {},
     "nuid": "1b1551d8-cfd6-4518-8c7a-7975a142124c",
     "showTitle": false,
     "tableResultSettingsMap": {},
     "title": ""
    }
   },
   "outputs": [],
   "source": [
    "# Bronze to Silver transformations\n",
    "\n",
    "spark.sql(\"USE CATALOG databricks_poc\")\n",
    "spark.sql(\"USE SCHEMA bronze\")\n",
    "\n",
    "user_bronze_df = spark.sql(\"SELECT * FROM users\")\n",
    "\n",
    "\n",
    "users_transform_df = (\n",
    "    user_bronze_df\n",
    "    .withColumn(\"name\", regexp_replace(\"name\", \"^.*$\", \"******\"))\n",
    "    .withColumn(\"email\", mask_email_udf(col(\"email\")))\n",
    "    .withColumn(\"age_group\", group_age_udf(col(\"age\").cast(\"int\")))\n",
    "    .drop(\"age\")\n",
    ")\n",
    "\n",
    "users_transform_df.createOrReplaceTempView(\"users_silver_updates_temp_vw\")\n",
    "\n",
    "spark.sql(\"CREATE SCHEMA IF NOT EXISTS silver\")\n",
    "spark.sql(\"USE SCHEMA silver\")\n",
    "spark.sql(\"\"\"\n",
    "        CREATE TABLE IF NOT EXISTS users\n",
    "        (user_id STRING, name STRING, email STRING, age_group STRING, gender STRING, signup_date STRING, country STRING, _rescued_data STRING)\n",
    "          \"\"\"\n",
    "          )\n",
    "spark.sql(\"\"\"\n",
    "        MERGE INTO  silver.users u\n",
    "        USING users_silver_updates_temp_vw t\n",
    "        ON u.user_id = t.user_id\n",
    "        WHEN MATCHED THEN UPDATE SET *\n",
    "        WHEN NOT MATCHED THEN INSERT *\n",
    "        \"\"\")\n"
   ]
  },
  {
   "cell_type": "code",
   "execution_count": 0,
   "metadata": {
    "application/vnd.databricks.v1+cell": {
     "cellMetadata": {},
     "inputWidgets": {},
     "nuid": "b4050bed-40cb-47af-a323-b3158cdf5f14",
     "showTitle": false,
     "tableResultSettingsMap": {},
     "title": ""
    }
   },
   "outputs": [],
   "source": []
  }
 ],
 "metadata": {
  "application/vnd.databricks.v1+notebook": {
   "computePreferences": null,
   "dashboards": [],
   "environmentMetadata": {
    "base_environment": "",
    "environment_version": "2"
   },
   "language": "python",
   "notebookMetadata": {
    "pythonIndentUnit": 4
   },
   "notebookName": "01_Example_ETL_Bronze_To_Silver",
   "widgets": {}
  },
  "language_info": {
   "name": "python"
  }
 },
 "nbformat": 4,
 "nbformat_minor": 0
}
